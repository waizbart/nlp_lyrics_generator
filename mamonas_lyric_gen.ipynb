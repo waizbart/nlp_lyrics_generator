{
  "cells": [
    {
      "cell_type": "code",
      "execution_count": 1,
      "metadata": {
        "id": "BOwsuGQQY9OL"
      },
      "outputs": [
        {
          "name": "stdout",
          "output_type": "stream",
          "text": [
            "WARNING:tensorflow:From c:\\Users\\guilh\\AppData\\Local\\Programs\\Python\\Python311\\Lib\\site-packages\\keras\\src\\losses.py:2976: The name tf.losses.sparse_softmax_cross_entropy is deprecated. Please use tf.compat.v1.losses.sparse_softmax_cross_entropy instead.\n",
            "\n"
          ]
        }
      ],
      "source": [
        "import tensorflow as tf\n",
        "import numpy as np\n",
        "import os\n",
        "from tensorflow.keras.layers import Embedding, LSTM, Dense, Bidirectional\n",
        "from tensorflow.keras.models import Sequential\n",
        "from tensorflow.keras.preprocessing.text import Tokenizer\n",
        "from tensorflow.keras.preprocessing.sequence import pad_sequences"
      ]
    },
    {
      "cell_type": "markdown",
      "metadata": {},
      "source": [
        "## Getting lyrics from txt"
      ]
    },
    {
      "cell_type": "code",
      "execution_count": 2,
      "metadata": {},
      "outputs": [],
      "source": [
        "author = 'mamonas'\n",
        "\n",
        "lyrics = os.listdir('lyrics/' + author)\n",
        "\n",
        "data = ''\n",
        "\n",
        "for i in range(len(lyrics)):\n",
        "    with open('lyrics/' + author + '/' + lyrics[i], 'r', encoding='utf-8') as f:\n",
        "        lyrics_data = f.read().replace('\\r', ' ')\n",
        "        lyrics_data = \"\\n\".join(line for line in lyrics_data.split(\"\\n\") if line.strip())\n",
        "        data += lyrics_data"
      ]
    },
    {
      "cell_type": "markdown",
      "metadata": {
        "id": "nqSrSYWD0CxU"
      },
      "source": [
        "## Building the Word Vocabulary\n"
      ]
    },
    {
      "cell_type": "code",
      "execution_count": 3,
      "metadata": {
        "id": "doUCQnYfvsmA"
      },
      "outputs": [
        {
          "name": "stdout",
          "output_type": "stream",
          "text": [
            "['atenção, creuzebek', 'ao top de quatro já vai', 'já, já, já, já vai!', 'eu queria um apartamento no guarujá', 'mas o melhor que eu consegui foi um barraco em itaquá', 'você não sabe como parte um coração', 'ver seu filhinho chorando, querendo ter um avião', 'você não sabe como é frustrante', 'ver sua filhinha chorando por um colar de diamante', 'cê não sabe como eu fico chateado', 'ver meu cachorro babando por um carro importado', 'money', 'que é good nós num have (have)', 'se nós hevasse, nós num tava aqui playando', 'mas nós precisa de workar', 'money (money)', 'que é good nós num have (have)', 'se nós hevasse, nós num tava aqui workando', 'o nosso work é playá', 'mas a pior de todas é minha mulher', 'tudo que ela olha, a desgraçada quer', 'televisão, micro-ondas, micro system, microscópio', 'limpa-vidro, limpa-chifre e facas ginsu', 'eu sou cagado, veja só como é que é', 'se der uma chuva de xuxa, no meu colo cai pelé', 'é como aquele ditado que já dizia', 'pau que nasce torto mija fora da bacia', 'money', 'que é good nós num have (have)', 'se nós hevasse, nós num tava aqui playando', 'mas nós precisa de workar', 'money (money)', 'que é good nós num have (have)', 'se nós hevasse, nós num tava aqui workando', 'o nosso work é playá', 'eita!', 'mas a pior de todas é minha mulher', 'tudo que ela olha, a desgraçada quer', 'ambervision, frigidiet, celular, masterline', 'camisinha, camisola e kamikaze', 'eu sou cagado, veja só como é que é', 'se der uma chuva de xuxa, no meu colo cai pelé', 'é como aquele ditado que já dizia', 'pau que nasce torto mija fora da bacia', 'money', 'que é good nós num have (have)', 'se nós hevasse, nós num tava aqui playando', 'mas nós precisa de workar', 'money (money)', 'que é good nós num have (have)', 'se nós hevasse, nós num tava aqui workando', 'o nosso work é playá', 'money', 'que é good nós num have (have)', 'se nós hevasse, nós num tava aqui playando', 'mas nós precisa de workar', 'money (money)', 'que é good nós num have (have)', 'se nós hevasse, nós num tava aqui workando', 'o nosso work é playáte encontrei', 'toda remelenta e estronchada num bar', 'entregue às bebida', 'te cortei', 'os cabelos do suvaco e as unha do pé', 'te chamei de querida', 'te ensinei', 'todos os autorreverse da vida', 'e o movimento de translação que faz a terra girar', 'te falei', 'que era importante competir', 'mas te mato de pancada se você não ganhar', 'você foi', 'agora a coisa mais importante', 'que já me aconteceu neste momento', 'em toda a minha vida', 'um paradoxo', 'do pretérito imperfeito complexo', 'com a teoria da relatividade', 'num momento crucial', 'um sábio soube saber que o sabiá sabia assobiar', 'e quem amafagafar os mafagafinhos', 'bom amafagafigador será', 'te falei', 'que o pediatra é o doutor responsável pela saúde dos pé', 'o zoísta cuida dos zóio e os oculista, deus me livre', 'nunca vão mexer no meu', 'pois pra mim', 'você é uma besta mitológica com cabelo pixaim', 'parecida com a medusa', 'eu disse isso', 'pra rimar com a soma dos quadrado dos cateto', 'que é igual à porra da hipotenusa', 'você foi', 'agora a coisa mais importante', 'que aconteceu nesse momento', 'até hoje em toda a minha vida', 'um paradoxo', 'do pretérito imperfeito complexo', 'com a teoria da relatividade', 'num momento crucial', 'um sábio soube saber que o sabiá sabia assobiar', 'e quem amafagafar os mafagafinhos', 'bom amafagafigador será', 'eu fundei', 'a associação internacional de proteção às borboletas do afeganistão', 'te provei por b mais c', 'que as meninas dos teus olhos não têm menstruação', 'dar um prato de trigo pra dois tigre', 'e ver os bicho brigando é legal que só (miau)', 'pois nos tira e põe, deixa ficar da vida', 'serei sempre o seu escravo de jó', '(vamos até o fim?)', 'logo agora', 'que você estava quase entendendo', 'o que eu estou falando (falando)', 'a canção está acabando e o creuzebeck', 'está abaixando ali o volume (volume)', 'e você não entende nada mesmo porque', 'quando você estiver em sua casa nesse momento', 'a música vai tá baixinha (baixinha)', 'e você não vai entender nada', 'sei nem por que eu tô falando', 'esse monte de besteira aqui já que isso tudo é', 'porra!', 'vamo parar com esses papo chato (vamo lá)', 'eu já não estou aguentando mais', 'está doendo minha garganta', 'eu tenho que fazer ali gargarejo com vinagre', 'soltei um peido aqui dentro (caralho!)', 'está fedido o ambiente, meus dedos estão dormentes', 'pelo amor de deus', 'parem com esta porra!mina, seus cabelo é da hora', 'seu corpão violão', 'meu docinho de coco', 'tá me deixando louco', 'minha brasília amarela', 'tá de portas abertas', 'pra mode a gente se amar', 'pelados em santos', 'pois você, minha pitchula', 'me deixou legalzão', 'não me sintcho sozinho', 'você é meu chuchuzinho', 'music is very good', '(oxente ai, ai, ai!)', 'mas comigo ela não quer se casar', '(oxente ai, ai, ai!)', 'na brasília amarela com roda gaúcha', 'ela não quer entrar', '(oxente ai, ai, ai!)', 'é feijão com jabá', 'a desgraçada num quer compartilhar', 'mas ela é lindia', 'mutcho mar do que lindia', 'very, very beautiful', 'você me deixa doidião', 'oh, yes! oh, no!', 'meu docinho de coco', 'music is very porreta', '(oxente paraguai!)', 'pos paraguai ela não quis viajar', '(oxente paraguai!)', 'comprei um reebok e uma calça fiorucci', 'ela não quer usar', '(oxente paraguai!)', 'eu não sei o que faço', 'pra essa mulé eu conquistchar', 'porque ela é lindia', 'mutcho mar do que lindia', 'very, very beautiful', 'você me deixa doidião', 'oh, yes! oh, no!', 'meu chuchuzinho', 'oh, yes! no, no, no, no!', 'eu te i love you!', 'pera aí que tem mais', 'um poquinho de u', 'uuuuu', 'tchêum tanto quanto másculo', 'ai, com m maiúsculo', 'vejam só os meus músculos', 'que com amor cultivei', 'minha pistola é de plástico (quero chupar-pa-pa)', 'em formato cilíndrico (quero chupar-pa)', 'sempre me chamam de cínico (quero chupar)', 'mas o porquê eu não sei (quero chupar-pa)', 'o meu bumbum era flácido', 'mas esse assunto é tão místico', 'devido a um ato cirúrgico', 'hoje eu me transformei', 'o meu andar é erótico (silicone, yeah, yeah, yeah)', 'com movimentos atômicos (silicone, yeah, yeah)', 'sou um amante robótico (silicone, yeah)', 'com direito a replay (silicone, yeah)', 'um ser humano fantástico', 'com poderes titânicos', 'foi um moreno simpático', 'por quem me apaixonei', 'e hoje estou tão eufórico (doce, doce, amor)', 'com mil pedaços biônicos (doce, doce, amor)', 'ontem eu era católico (doce, doce, amor)', 'ai, hoje eu sou um gay!', 'abra sua mente', 'gay também é gente', 'baiano fala: oxente', 'e come vatapá', 'você pode ser gótico', 'ser punk ou skinhead', 'tem gay que é mohamed', 'tentando camuflar', 'alá, meu bom alá', 'faça bem a barba', 'arranque seu bigode', 'gaúcho também pode', 'não tem que disfarçar', 'faça uma plástica', 'ai, entre na ginástica', 'boneca cibernética', 'um robocop gay', 'um robocop gay', 'um robocop gay', 'ai, eu sei, eu sei', 'meu robocop gay', 'ai, como dói!raios!', 'fui convidado pra uma tal de suruba', 'não pude ir, maria foi no meu lugar', 'depois de uma semana, ela voltou pra casa', 'toda arregaçada, não podia nem sentar', 'quando vi aquilo, fiquei assustado', 'maria, chorando, começou a me explicar', 'daí, então, eu fiquei aliviado', 'e dei graças a deus porque ela foi no meu lugar', 'roda, roda e vira, solta a roda e vem', 'me passaram a mão na bunda e ainda não comi ninguém', 'roda, roda e vira, solta a roda e vem', 'neste raio de suruba', 'já me passaram a mão na bunda', 'e ainda não comi ninguém', 'ô, manoel, olha acá como eu estou', 'tu não imaginas como eu estou sofrendo', 'uma teta minha um negão arrancou', 'e a outra que sobrou está doendo', 'ô, maria, vê se larga de frescura', 'que eu te levo no hospital pela manhã', 'tu ficaste tão bonita monoteta', 'mais vale um na mão do que dois no sutiã', 'roda, roda e vira, solta a roda e vem', 'me passaram a mão na bunda e ainda não comi ninguém', 'roda, roda e vira, solta a roda e vem', 'neste raio de suruba', 'já me passaram a mão na bunda', 'e ainda não comi ninguém', 'bate o pé', 'bate o pé', 'ô, maria essa suruba me excita', '(arrebita, arrebita, arrebita)', 'então vá fazer amor com uma cabrita', '(arrebita, arrebita, arrebita)', 'mas, maria, isso é bom que te exercita', '(bate o pé, arrebita, arrebita)', 'manoel, tu na cabeça tem titica', 'larga de putaria e vem cuidar da padaria', 'roda, roda e vira, solta a roda e vem', 'me passaram a mão na bunda e ainda não comi ninguém', 'roda, roda e vira, solta a roda e vem', 'neste raio de suruba', 'já me passaram a mão na bunda', 'e ainda não comi ninguém', 'vamos lá, todo mundo dançando, raios', 'todo mundo comigo', 'uou, uou, uou, a maria se deu mal, vamo lá', 'ai, como dói']\n"
          ]
        }
      ],
      "source": [
        "# Split the long string per line and put in a list\n",
        "corpus = data.lower().split(\"\\n\")\n",
        "\n",
        "# Preview the result\n",
        "print(corpus)"
      ]
    },
    {
      "cell_type": "code",
      "execution_count": 4,
      "metadata": {
        "id": "PRnDnCW-Z7qv"
      },
      "outputs": [
        {
          "name": "stdout",
          "output_type": "stream",
          "text": [
            "word index dictionary: {'que': 1, 'é': 2, 'a': 3, 'e': 4, 'de': 5, 'nós': 6, 'não': 7, 'eu': 8, 'um': 9, 'o': 10, 'num': 11, 'roda': 12, 'me': 13, 'com': 14, 'have': 15, 'você': 16, 'se': 17, 'ai': 18, 'no': 19, 'meu': 20, 'já': 21, 'mas': 22, 'money': 23, 'como': 24, 'aqui': 25, 'ela': 26, 'te': 27, 'na': 28, 'good': 29, 'minha': 30, 'uma': 31, 'da': 32, 'hevasse': 33, 'tava': 34, 'do': 35, 'arrebita': 36, 'os': 37, 'pra': 38, 'oxente': 39, 'yeah': 40, 'gay': 41, 'vem': 42, 'mão': 43, 'foi': 44, 'em': 45, 'quer': 46, 'mais': 47, 'amor': 48, 'very': 49, 'doce': 50, 'maria': 51, 'vira': 52, 'solta': 53, 'passaram': 54, 'bunda': 55, 'ainda': 56, 'comi': 57, 'ninguém': 58, 'por': 59, 'pé': 60, 'momento': 61, 'dos': 62, 'estou': 63, 'está': 64, 'sei': 65, 'oh': 66, 'suruba': 67, 'vai': 68, 'ver': 69, 'seu': 70, 'playando': 71, 'precisa': 72, 'workar': 73, 'workando': 74, 'nosso': 75, 'work': 76, 'sou': 77, 'só': 78, 'toda': 79, 'vida': 80, 'neste': 81, 'bom': 82, 'hoje': 83, 'lindia': 84, 'paraguai': 85, 'tem': 86, 'quero': 87, 'chupar': 88, 'pa': 89, 'silicone': 90, 'robocop': 91, 'sabe': 92, 'chorando': 93, 'sua': 94, 'playá': 95, 'tudo': 96, 'olha': 97, 'desgraçada': 98, 'era': 99, 'importante': 100, 'agora': 101, 'quem': 102, 'deus': 103, 'pois': 104, 'isso': 105, 'porra': 106, 'deixa': 107, 'falando': 108, 'porque': 109, 'tá': 110, 'vamo': 111, 'lá': 112, 'yes': 113, 'tão': 114, 'ser': 115, 'raio': 116, 'ô': 117, 'tu': 118, 'bate': 119, 'uou': 120, 'pior': 121, 'todas': 122, 'mulher': 123, 'micro': 124, 'limpa': 125, 'cagado': 126, 'veja': 127, 'der': 128, 'chuva': 129, 'xuxa': 130, 'colo': 131, 'cai': 132, 'pelé': 133, 'aquele': 134, 'ditado': 135, 'dizia': 136, 'pau': 137, 'nasce': 138, 'torto': 139, 'mija': 140, 'fora': 141, 'bacia': 142, 'às': 143, 'as': 144, 'falei': 145, 'coisa': 146, 'aconteceu': 147, 'paradoxo': 148, 'pretérito': 149, 'imperfeito': 150, 'complexo': 151, 'teoria': 152, 'relatividade': 153, 'crucial': 154, 'sábio': 155, 'soube': 156, 'saber': 157, 'sabiá': 158, 'sabia': 159, 'assobiar': 160, 'amafagafar': 161, 'mafagafinhos': 162, 'amafagafigador': 163, 'será': 164, 'pela': 165, 'cabelo': 166, 'nesse': 167, 'até': 168, 'dois': 169, 'sempre': 170, 'vamos': 171, 'ali': 172, 'volume': 173, 'nada': 174, 'quando': 175, 'casa': 176, 'baixinha': 177, 'nem': 178, 'esse': 179, 'doendo': 180, 'fazer': 181, 'meus': 182, 'docinho': 183, 'coco': 184, 'brasília': 185, 'amarela': 186, 'gente': 187, 'chuchuzinho': 188, 'music': 189, 'is': 190, 'comigo': 191, 'mutcho': 192, 'mar': 193, 'beautiful': 194, 'doidião': 195, 'essa': 196, 'também': 197, 'pode': 198, 'alá': 199, 'faça': 200, 'dói': 201, 'raios': 202, 'lugar': 203, 'fiquei': 204, 'então': 205, 'manoel': 206, 'larga': 207, 'todo': 208, 'mundo': 209, 'atenção': 210, 'creuzebek': 211, 'ao': 212, 'top': 213, 'quatro': 214, 'queria': 215, 'apartamento': 216, 'guarujá': 217, 'melhor': 218, 'consegui': 219, 'barraco': 220, 'itaquá': 221, 'parte': 222, 'coração': 223, 'filhinho': 224, 'querendo': 225, 'ter': 226, 'avião': 227, 'frustrante': 228, 'filhinha': 229, 'colar': 230, 'diamante': 231, 'cê': 232, 'fico': 233, 'chateado': 234, 'cachorro': 235, 'babando': 236, 'carro': 237, 'importado': 238, 'televisão': 239, 'ondas': 240, 'system': 241, 'microscópio': 242, 'vidro': 243, 'chifre': 244, 'facas': 245, 'ginsu': 246, 'eita': 247, 'ambervision': 248, 'frigidiet': 249, 'celular': 250, 'masterline': 251, 'camisinha': 252, 'camisola': 253, 'kamikaze': 254, 'playáte': 255, 'encontrei': 256, 'remelenta': 257, 'estronchada': 258, 'bar': 259, 'entregue': 260, 'bebida': 261, 'cortei': 262, 'cabelos': 263, 'suvaco': 264, 'unha': 265, 'chamei': 266, 'querida': 267, 'ensinei': 268, 'todos': 269, 'autorreverse': 270, 'movimento': 271, 'translação': 272, 'faz': 273, 'terra': 274, 'girar': 275, 'competir': 276, 'mato': 277, 'pancada': 278, 'ganhar': 279, 'pediatra': 280, 'doutor': 281, 'responsável': 282, 'saúde': 283, 'zoísta': 284, 'cuida': 285, 'zóio': 286, 'oculista': 287, 'livre': 288, 'nunca': 289, 'vão': 290, 'mexer': 291, 'mim': 292, 'besta': 293, 'mitológica': 294, 'pixaim': 295, 'parecida': 296, 'medusa': 297, 'disse': 298, 'rimar': 299, 'soma': 300, 'quadrado': 301, 'cateto': 302, 'igual': 303, 'à': 304, 'hipotenusa': 305, 'fundei': 306, 'associação': 307, 'internacional': 308, 'proteção': 309, 'borboletas': 310, 'afeganistão': 311, 'provei': 312, 'b': 313, 'c': 314, 'meninas': 315, 'teus': 316, 'olhos': 317, 'têm': 318, 'menstruação': 319, 'dar': 320, 'prato': 321, 'trigo': 322, 'tigre': 323, 'bicho': 324, 'brigando': 325, 'legal': 326, 'miau': 327, 'nos': 328, 'tira': 329, 'põe': 330, 'ficar': 331, 'serei': 332, 'escravo': 333, 'jó': 334, 'fim': 335, 'logo': 336, 'estava': 337, 'quase': 338, 'entendendo': 339, 'canção': 340, 'acabando': 341, 'creuzebeck': 342, 'abaixando': 343, 'entende': 344, 'mesmo': 345, 'estiver': 346, 'música': 347, 'entender': 348, 'tô': 349, 'monte': 350, 'besteira': 351, 'parar': 352, 'esses': 353, 'papo': 354, 'chato': 355, 'aguentando': 356, 'garganta': 357, 'tenho': 358, 'gargarejo': 359, 'vinagre': 360, 'soltei': 361, 'peido': 362, 'dentro': 363, 'caralho': 364, 'fedido': 365, 'ambiente': 366, 'dedos': 367, 'estão': 368, 'dormentes': 369, 'pelo': 370, 'parem': 371, 'esta': 372, 'mina': 373, 'seus': 374, 'hora': 375, 'corpão': 376, 'violão': 377, 'deixando': 378, 'louco': 379, 'portas': 380, 'abertas': 381, 'mode': 382, 'amar': 383, 'pelados': 384, 'santos': 385, 'pitchula': 386, 'deixou': 387, 'legalzão': 388, 'sintcho': 389, 'sozinho': 390, 'casar': 391, 'gaúcha': 392, 'entrar': 393, 'feijão': 394, 'jabá': 395, 'compartilhar': 396, 'porreta': 397, 'pos': 398, 'quis': 399, 'viajar': 400, 'comprei': 401, 'reebok': 402, 'calça': 403, 'fiorucci': 404, 'usar': 405, 'faço': 406, 'mulé': 407, 'conquistchar': 408, 'i': 409, 'love': 410, 'you': 411, 'pera': 412, 'aí': 413, 'poquinho': 414, 'u': 415, 'uuuuu': 416, 'tchêum': 417, 'tanto': 418, 'quanto': 419, 'másculo': 420, 'm': 421, 'maiúsculo': 422, 'vejam': 423, 'músculos': 424, 'cultivei': 425, 'pistola': 426, 'plástico': 427, 'formato': 428, 'cilíndrico': 429, 'chamam': 430, 'cínico': 431, 'porquê': 432, 'bumbum': 433, 'flácido': 434, 'assunto': 435, 'místico': 436, 'devido': 437, 'ato': 438, 'cirúrgico': 439, 'transformei': 440, 'andar': 441, 'erótico': 442, 'movimentos': 443, 'atômicos': 444, 'amante': 445, 'robótico': 446, 'direito': 447, 'replay': 448, 'humano': 449, 'fantástico': 450, 'poderes': 451, 'titânicos': 452, 'moreno': 453, 'simpático': 454, 'apaixonei': 455, 'eufórico': 456, 'mil': 457, 'pedaços': 458, 'biônicos': 459, 'ontem': 460, 'católico': 461, 'abra': 462, 'mente': 463, 'baiano': 464, 'fala': 465, 'come': 466, 'vatapá': 467, 'gótico': 468, 'punk': 469, 'ou': 470, 'skinhead': 471, 'mohamed': 472, 'tentando': 473, 'camuflar': 474, 'bem': 475, 'barba': 476, 'arranque': 477, 'bigode': 478, 'gaúcho': 479, 'disfarçar': 480, 'plástica': 481, 'entre': 482, 'ginástica': 483, 'boneca': 484, 'cibernética': 485, 'fui': 486, 'convidado': 487, 'tal': 488, 'pude': 489, 'ir': 490, 'depois': 491, 'semana': 492, 'voltou': 493, 'arregaçada': 494, 'podia': 495, 'sentar': 496, 'vi': 497, 'aquilo': 498, 'assustado': 499, 'começou': 500, 'explicar': 501, 'daí': 502, 'aliviado': 503, 'dei': 504, 'graças': 505, 'acá': 506, 'imaginas': 507, 'sofrendo': 508, 'teta': 509, 'negão': 510, 'arrancou': 511, 'outra': 512, 'sobrou': 513, 'vê': 514, 'frescura': 515, 'levo': 516, 'hospital': 517, 'manhã': 518, 'ficaste': 519, 'bonita': 520, 'monoteta': 521, 'vale': 522, 'sutiã': 523, 'excita': 524, 'vá': 525, 'cabrita': 526, 'exercita': 527, 'cabeça': 528, 'titica': 529, 'putaria': 530, 'cuidar': 531, 'padaria': 532, 'dançando': 533, 'deu': 534, 'mal': 535}\n",
            "total words: 536\n"
          ]
        }
      ],
      "source": [
        "# Initialize the Tokenizer class\n",
        "tokenizer = Tokenizer()\n",
        "\n",
        "# Generate the word index dictionary\n",
        "tokenizer.fit_on_texts(corpus)\n",
        "\n",
        "# Define the total words. You add 1 for the index `0` which is just the padding token.\n",
        "total_words = len(tokenizer.word_index) + 1\n",
        "\n",
        "print(f'word index dictionary: {tokenizer.word_index}')\n",
        "print(f'total words: {total_words}')"
      ]
    },
    {
      "cell_type": "markdown",
      "metadata": {
        "id": "mBE10Hx_0PA_"
      },
      "source": [
        "## Preprocessing the Dataset\n"
      ]
    },
    {
      "cell_type": "code",
      "execution_count": 5,
      "metadata": {
        "id": "soPGVheskaQP"
      },
      "outputs": [],
      "source": [
        "# Initialize the sequences list\n",
        "input_sequences = []\n",
        "\n",
        "# Loop over every line\n",
        "for line in corpus:\n",
        "\n",
        "\t# Tokenize the current line\n",
        "\ttoken_list = tokenizer.texts_to_sequences([line])[0]\n",
        "\n",
        "\t# Loop over the line several times to generate the subphrases\n",
        "\tfor i in range(1, len(token_list)):\n",
        "\n",
        "\t\t# Generate the subphrase\n",
        "\t\tn_gram_sequence = token_list[:i+1]\n",
        "\n",
        "\t\t# Append the subphrase to the sequences list\n",
        "\t\tinput_sequences.append(n_gram_sequence)\n",
        "\n",
        "# Get the length of the longest line\n",
        "max_sequence_len = max([len(x) for x in input_sequences])\n",
        "\n",
        "# Pad all sequences\n",
        "input_sequences = np.array(pad_sequences(input_sequences, maxlen=max_sequence_len, padding='pre'))\n",
        "\n",
        "# Create inputs and label by splitting the last token in the subphrases\n",
        "xs, labels = input_sequences[:,:-1],input_sequences[:,-1]\n",
        "\n",
        "# Convert the label into one-hot arrays\n",
        "ys = tf.keras.utils.to_categorical(labels, num_classes=total_words)"
      ]
    },
    {
      "cell_type": "code",
      "execution_count": 6,
      "metadata": {
        "id": "pJtwVB2NbOAP"
      },
      "outputs": [
        {
          "name": "stdout",
          "output_type": "stream",
          "text": [
            "sample sentence: ['atenção,', 'creuzebek']\n",
            "[210, 211]\n"
          ]
        }
      ],
      "source": [
        "# Get sample sentence\n",
        "sentence = corpus[0].split()\n",
        "print(f'sample sentence: {sentence}')\n",
        "\n",
        "# Initialize token list\n",
        "token_list = []\n",
        "\n",
        "# Look up the indices of each word and append to the list\n",
        "for word in sentence:\n",
        "  word = \"\".join([l for l in word if l.isalnum()])\n",
        "  token_list.append(tokenizer.word_index[word])\n",
        "\n",
        "# Print the token list\n",
        "print(token_list)"
      ]
    },
    {
      "cell_type": "code",
      "execution_count": 7,
      "metadata": {
        "id": "49Cv68JOakwv"
      },
      "outputs": [
        {
          "name": "stdout",
          "output_type": "stream",
          "text": [
            "token list: [ 0  0  0  0  0  0  0  0  0 21]\n",
            "decoded to text: ['já']\n"
          ]
        }
      ],
      "source": [
        "# Pick element\n",
        "elem_number = 6\n",
        "\n",
        "# Print token list and phrase\n",
        "print(f'token list: {xs[elem_number]}')\n",
        "print(f'decoded to text: {tokenizer.sequences_to_texts([xs[elem_number]])}')\n"
      ]
    },
    {
      "cell_type": "markdown",
      "metadata": {
        "id": "c6w_I9OUA2D3"
      },
      "source": [
        "## Build the Model\n"
      ]
    },
    {
      "cell_type": "code",
      "execution_count": 29,
      "metadata": {
        "id": "w9vH8Y59ajYL"
      },
      "outputs": [
        {
          "name": "stdout",
          "output_type": "stream",
          "text": [
            "Model: \"sequential_2\"\n",
            "_________________________________________________________________\n",
            " Layer (type)                Output Shape              Param #   \n",
            "=================================================================\n",
            " embedding_2 (Embedding)     (None, 10, 128)           68608     \n",
            "                                                                 \n",
            " bidirectional_2 (Bidirecti  (None, 200)               183200    \n",
            " onal)                                                           \n",
            "                                                                 \n",
            " dense_2 (Dense)             (None, 536)               107736    \n",
            "                                                                 \n",
            "=================================================================\n",
            "Total params: 359544 (1.37 MB)\n",
            "Trainable params: 359544 (1.37 MB)\n",
            "Non-trainable params: 0 (0.00 Byte)\n",
            "_________________________________________________________________\n"
          ]
        }
      ],
      "source": [
        "# Build the model\n",
        "model = Sequential([\n",
        "          Embedding(total_words, 128, input_length=max_sequence_len-1),\n",
        "          Bidirectional(LSTM(100)),\n",
        "          Dense(total_words, activation='softmax')\n",
        "])\n",
        "\n",
        "adam = tf.keras.optimizers.Adam(learning_rate=0.05)\n",
        "\n",
        "# Use categorical crossentropy because this is a multi-class problem\n",
        "model.compile(loss='categorical_crossentropy', optimizer=adam, metrics=['accuracy'])\n",
        "\n",
        "# Print the model summary\n",
        "model.summary()"
      ]
    },
    {
      "cell_type": "markdown",
      "metadata": {
        "id": "0Xnb6i2WC_sy"
      },
      "source": [
        "## Train the model\n"
      ]
    },
    {
      "cell_type": "code",
      "execution_count": 30,
      "metadata": {
        "id": "mF2k2nD9vgsD"
      },
      "outputs": [
        {
          "name": "stdout",
          "output_type": "stream",
          "text": [
            "Epoch 1/100\n",
            "39/39 [==============================] - 4s 5ms/step - loss: 6.1400 - accuracy: 0.0488\n",
            "Epoch 2/100\n",
            "39/39 [==============================] - 0s 5ms/step - loss: 4.6306 - accuracy: 0.2026\n",
            "Epoch 3/100\n",
            "39/39 [==============================] - 0s 5ms/step - loss: 3.7249 - accuracy: 0.2945\n",
            "Epoch 4/100\n",
            "39/39 [==============================] - 0s 5ms/step - loss: 2.9716 - accuracy: 0.3792\n",
            "Epoch 5/100\n",
            "39/39 [==============================] - 0s 5ms/step - loss: 2.4722 - accuracy: 0.4451\n",
            "Epoch 6/100\n",
            "39/39 [==============================] - 0s 5ms/step - loss: 2.5191 - accuracy: 0.4638\n",
            "Epoch 7/100\n",
            "39/39 [==============================] - 0s 5ms/step - loss: 2.2288 - accuracy: 0.5207\n",
            "Epoch 8/100\n",
            "39/39 [==============================] - 0s 5ms/step - loss: 2.1899 - accuracy: 0.5053\n",
            "Epoch 9/100\n",
            "39/39 [==============================] - 0s 5ms/step - loss: 2.0452 - accuracy: 0.5313\n",
            "Epoch 10/100\n",
            "39/39 [==============================] - 0s 5ms/step - loss: 1.8589 - accuracy: 0.5622\n",
            "Epoch 11/100\n",
            "39/39 [==============================] - 0s 5ms/step - loss: 1.9640 - accuracy: 0.5834\n",
            "Epoch 12/100\n",
            "39/39 [==============================] - 0s 5ms/step - loss: 1.5904 - accuracy: 0.6241\n",
            "Epoch 13/100\n",
            "39/39 [==============================] - 0s 5ms/step - loss: 1.3807 - accuracy: 0.6713\n",
            "Epoch 14/100\n",
            "39/39 [==============================] - 0s 5ms/step - loss: 1.1945 - accuracy: 0.7071\n",
            "Epoch 15/100\n",
            "39/39 [==============================] - 0s 5ms/step - loss: 1.1178 - accuracy: 0.7290\n",
            "Epoch 16/100\n",
            "39/39 [==============================] - 0s 6ms/step - loss: 1.1413 - accuracy: 0.7347\n",
            "Epoch 17/100\n",
            "39/39 [==============================] - 0s 6ms/step - loss: 1.1857 - accuracy: 0.7274\n",
            "Epoch 18/100\n",
            "39/39 [==============================] - 0s 5ms/step - loss: 1.0634 - accuracy: 0.7518\n",
            "Epoch 19/100\n",
            "39/39 [==============================] - 0s 5ms/step - loss: 0.9522 - accuracy: 0.7714\n",
            "Epoch 20/100\n",
            "39/39 [==============================] - 0s 5ms/step - loss: 0.9216 - accuracy: 0.7705\n",
            "Epoch 21/100\n",
            "39/39 [==============================] - 0s 5ms/step - loss: 0.9766 - accuracy: 0.7608\n",
            "Epoch 22/100\n",
            "39/39 [==============================] - 0s 5ms/step - loss: 0.9385 - accuracy: 0.7836\n",
            "Epoch 23/100\n",
            "39/39 [==============================] - 0s 5ms/step - loss: 0.7995 - accuracy: 0.7998\n",
            "Epoch 24/100\n",
            "39/39 [==============================] - 0s 5ms/step - loss: 0.7453 - accuracy: 0.8177\n",
            "Epoch 25/100\n",
            "39/39 [==============================] - 0s 5ms/step - loss: 0.6753 - accuracy: 0.8470\n",
            "Epoch 26/100\n",
            "39/39 [==============================] - 0s 5ms/step - loss: 0.6198 - accuracy: 0.8576\n",
            "Epoch 27/100\n",
            "39/39 [==============================] - 0s 5ms/step - loss: 0.5972 - accuracy: 0.8625\n",
            "Epoch 28/100\n",
            "39/39 [==============================] - 0s 5ms/step - loss: 0.5334 - accuracy: 0.8592\n",
            "Epoch 29/100\n",
            "39/39 [==============================] - 0s 5ms/step - loss: 0.5496 - accuracy: 0.8690\n",
            "Epoch 30/100\n",
            "39/39 [==============================] - 0s 5ms/step - loss: 0.4922 - accuracy: 0.8657\n",
            "Epoch 31/100\n",
            "39/39 [==============================] - 0s 5ms/step - loss: 0.5399 - accuracy: 0.8674\n",
            "Epoch 32/100\n",
            "39/39 [==============================] - 0s 5ms/step - loss: 0.5063 - accuracy: 0.8690\n",
            "Epoch 33/100\n",
            "39/39 [==============================] - 0s 5ms/step - loss: 0.4919 - accuracy: 0.8714\n",
            "Epoch 34/100\n",
            "39/39 [==============================] - 0s 5ms/step - loss: 0.4743 - accuracy: 0.8739\n",
            "Epoch 35/100\n",
            "39/39 [==============================] - 0s 5ms/step - loss: 0.4903 - accuracy: 0.8641\n",
            "Epoch 36/100\n",
            "39/39 [==============================] - 0s 6ms/step - loss: 0.5647 - accuracy: 0.8592\n",
            "Epoch 37/100\n",
            "39/39 [==============================] - 0s 7ms/step - loss: 0.5378 - accuracy: 0.8690\n",
            "Epoch 38/100\n",
            "39/39 [==============================] - 0s 6ms/step - loss: 0.5112 - accuracy: 0.8682\n",
            "Epoch 39/100\n",
            "39/39 [==============================] - 0s 5ms/step - loss: 0.5154 - accuracy: 0.8666\n",
            "Epoch 40/100\n",
            "39/39 [==============================] - 0s 5ms/step - loss: 0.4778 - accuracy: 0.8763\n",
            "Epoch 41/100\n",
            "39/39 [==============================] - 0s 5ms/step - loss: 0.4776 - accuracy: 0.8812\n",
            "Epoch 42/100\n",
            "39/39 [==============================] - 0s 5ms/step - loss: 0.4703 - accuracy: 0.8763\n",
            "Epoch 43/100\n",
            "39/39 [==============================] - 0s 5ms/step - loss: 0.4469 - accuracy: 0.8779\n",
            "Epoch 44/100\n",
            "39/39 [==============================] - 0s 5ms/step - loss: 0.4901 - accuracy: 0.8812\n",
            "Epoch 45/100\n",
            "39/39 [==============================] - 0s 5ms/step - loss: 0.4555 - accuracy: 0.8714\n",
            "Epoch 46/100\n",
            "39/39 [==============================] - 0s 5ms/step - loss: 0.4580 - accuracy: 0.8820\n",
            "Epoch 47/100\n",
            "39/39 [==============================] - 0s 5ms/step - loss: 0.5045 - accuracy: 0.8771\n",
            "Epoch 48/100\n",
            "39/39 [==============================] - 0s 6ms/step - loss: 0.5143 - accuracy: 0.8812\n",
            "Epoch 49/100\n",
            "39/39 [==============================] - 0s 5ms/step - loss: 0.5114 - accuracy: 0.8600\n",
            "Epoch 50/100\n",
            "39/39 [==============================] - 0s 6ms/step - loss: 0.6203 - accuracy: 0.8413\n",
            "Epoch 51/100\n",
            "39/39 [==============================] - 0s 5ms/step - loss: 1.0248 - accuracy: 0.7494\n",
            "Epoch 52/100\n",
            "39/39 [==============================] - 0s 5ms/step - loss: 2.6218 - accuracy: 0.5549\n",
            "Epoch 53/100\n",
            "39/39 [==============================] - 0s 5ms/step - loss: 5.0851 - accuracy: 0.3360\n",
            "Epoch 54/100\n",
            "39/39 [==============================] - 0s 5ms/step - loss: 5.6309 - accuracy: 0.3426\n",
            "Epoch 55/100\n",
            "39/39 [==============================] - 0s 5ms/step - loss: 5.3664 - accuracy: 0.3645\n",
            "Epoch 56/100\n",
            "39/39 [==============================] - 0s 6ms/step - loss: 4.5757 - accuracy: 0.4312\n",
            "Epoch 57/100\n",
            "39/39 [==============================] - 0s 6ms/step - loss: 3.8413 - accuracy: 0.4719\n",
            "Epoch 58/100\n",
            "39/39 [==============================] - 0s 6ms/step - loss: 3.2529 - accuracy: 0.5354\n",
            "Epoch 59/100\n",
            "39/39 [==============================] - 0s 5ms/step - loss: 2.5053 - accuracy: 0.6094\n",
            "Epoch 60/100\n",
            "39/39 [==============================] - 0s 5ms/step - loss: 2.1406 - accuracy: 0.6436\n",
            "Epoch 61/100\n",
            "39/39 [==============================] - 0s 5ms/step - loss: 1.8645 - accuracy: 0.6810\n",
            "Epoch 62/100\n",
            "39/39 [==============================] - 0s 6ms/step - loss: 1.5684 - accuracy: 0.7372\n",
            "Epoch 63/100\n",
            "39/39 [==============================] - 0s 5ms/step - loss: 1.2531 - accuracy: 0.7738\n",
            "Epoch 64/100\n",
            "39/39 [==============================] - 0s 6ms/step - loss: 1.0799 - accuracy: 0.8072\n",
            "Epoch 65/100\n",
            "39/39 [==============================] - 0s 6ms/step - loss: 1.0498 - accuracy: 0.8210\n",
            "Epoch 66/100\n",
            "39/39 [==============================] - 0s 5ms/step - loss: 0.8527 - accuracy: 0.8487\n",
            "Epoch 67/100\n",
            "39/39 [==============================] - 0s 5ms/step - loss: 0.7727 - accuracy: 0.8544\n",
            "Epoch 68/100\n",
            "39/39 [==============================] - 0s 6ms/step - loss: 0.8048 - accuracy: 0.8682\n",
            "Epoch 69/100\n",
            "39/39 [==============================] - 0s 5ms/step - loss: 0.7524 - accuracy: 0.8633\n",
            "Epoch 70/100\n",
            "39/39 [==============================] - 0s 5ms/step - loss: 0.7250 - accuracy: 0.8739\n",
            "Epoch 71/100\n",
            "39/39 [==============================] - 0s 5ms/step - loss: 0.7427 - accuracy: 0.8755\n",
            "Epoch 72/100\n",
            "39/39 [==============================] - 0s 6ms/step - loss: 0.6939 - accuracy: 0.8723\n",
            "Epoch 73/100\n",
            "39/39 [==============================] - 0s 6ms/step - loss: 0.6126 - accuracy: 0.8763\n",
            "Epoch 74/100\n",
            "39/39 [==============================] - 0s 6ms/step - loss: 0.6736 - accuracy: 0.8698\n",
            "Epoch 75/100\n",
            "39/39 [==============================] - 0s 5ms/step - loss: 0.7139 - accuracy: 0.8804\n",
            "Epoch 76/100\n",
            "39/39 [==============================] - 0s 6ms/step - loss: 0.7210 - accuracy: 0.8771\n",
            "Epoch 77/100\n",
            "39/39 [==============================] - 0s 6ms/step - loss: 0.6791 - accuracy: 0.8698\n",
            "Epoch 78/100\n",
            "39/39 [==============================] - 0s 6ms/step - loss: 0.6628 - accuracy: 0.8714\n",
            "Epoch 79/100\n",
            "39/39 [==============================] - 0s 5ms/step - loss: 0.7196 - accuracy: 0.8788\n",
            "Epoch 80/100\n",
            "39/39 [==============================] - 0s 5ms/step - loss: 0.6856 - accuracy: 0.8747\n",
            "Epoch 81/100\n",
            "39/39 [==============================] - 0s 5ms/step - loss: 0.6196 - accuracy: 0.8779\n",
            "Epoch 82/100\n",
            "39/39 [==============================] - 0s 5ms/step - loss: 0.6788 - accuracy: 0.8763\n",
            "Epoch 83/100\n",
            "39/39 [==============================] - 0s 5ms/step - loss: 0.6540 - accuracy: 0.8763\n",
            "Epoch 84/100\n",
            "39/39 [==============================] - 0s 6ms/step - loss: 0.7033 - accuracy: 0.8706\n",
            "Epoch 85/100\n",
            "39/39 [==============================] - 0s 6ms/step - loss: 0.6225 - accuracy: 0.8739\n",
            "Epoch 86/100\n",
            "39/39 [==============================] - 0s 6ms/step - loss: 0.5996 - accuracy: 0.8763\n",
            "Epoch 87/100\n",
            "39/39 [==============================] - 0s 6ms/step - loss: 0.6228 - accuracy: 0.8804\n",
            "Epoch 88/100\n",
            "39/39 [==============================] - 0s 6ms/step - loss: 0.6886 - accuracy: 0.8812\n",
            "Epoch 89/100\n",
            "39/39 [==============================] - 0s 5ms/step - loss: 0.5972 - accuracy: 0.8812\n",
            "Epoch 90/100\n",
            "39/39 [==============================] - 0s 5ms/step - loss: 0.5866 - accuracy: 0.8820\n",
            "Epoch 91/100\n",
            "39/39 [==============================] - 0s 5ms/step - loss: 0.7351 - accuracy: 0.8723\n",
            "Epoch 92/100\n",
            "39/39 [==============================] - 0s 5ms/step - loss: 0.6172 - accuracy: 0.8861\n",
            "Epoch 93/100\n",
            "39/39 [==============================] - 0s 5ms/step - loss: 0.6504 - accuracy: 0.8698\n",
            "Epoch 94/100\n",
            "39/39 [==============================] - 0s 5ms/step - loss: 0.6219 - accuracy: 0.8812\n",
            "Epoch 95/100\n",
            "39/39 [==============================] - 0s 5ms/step - loss: 0.6352 - accuracy: 0.8747\n",
            "Epoch 96/100\n",
            "39/39 [==============================] - 0s 6ms/step - loss: 0.6437 - accuracy: 0.8853\n",
            "Epoch 97/100\n",
            "39/39 [==============================] - 0s 5ms/step - loss: 0.6482 - accuracy: 0.8682\n",
            "Epoch 98/100\n",
            "39/39 [==============================] - 0s 5ms/step - loss: 0.6080 - accuracy: 0.8796\n",
            "Epoch 99/100\n",
            "39/39 [==============================] - 0s 5ms/step - loss: 0.5999 - accuracy: 0.8828\n",
            "Epoch 100/100\n",
            "39/39 [==============================] - 0s 5ms/step - loss: 0.5707 - accuracy: 0.8869\n"
          ]
        }
      ],
      "source": [
        "# Train the model\n",
        "history = model.fit(xs, ys, epochs=100)"
      ]
    },
    {
      "cell_type": "code",
      "execution_count": 31,
      "metadata": {
        "id": "3YXGelKThoTT"
      },
      "outputs": [
        {
          "data": {
            "image/png": "[encoded data removed]",
            "text/plain": [
              "<Figure size 640x480 with 1 Axes>"
            ]
          },
          "metadata": {},
          "output_type": "display_data"
        }
      ],
      "source": [
        "import matplotlib.pyplot as plt\n",
        "\n",
        "# Plot utility\n",
        "def plot_graphs(history, string):\n",
        "  plt.plot(history.history[string])\n",
        "  plt.xlabel(\"Epochs\")\n",
        "  plt.ylabel(string)\n",
        "  plt.show()\n",
        "\n",
        "# Visualize the accuracy\n",
        "plot_graphs(history, 'accuracy')"
      ]
    },
    {
      "cell_type": "markdown",
      "metadata": {
        "id": "NUmA472NDn_v"
      },
      "source": [
        "## Generating Text\n"
      ]
    },
    {
      "cell_type": "code",
      "execution_count": 32,
      "metadata": {
        "id": "6Vc6PHgxa6Hm"
      },
      "outputs": [
        {
          "name": "stdout",
          "output_type": "stream",
          "text": [
            "1/1 [==============================] - 1s 803ms/step\n",
            "1/1 [==============================] - 0s 16ms/step\n",
            "1/1 [==============================] - 0s 15ms/step\n",
            "1/1 [==============================] - 0s 16ms/step\n",
            "1/1 [==============================] - 0s 16ms/step\n",
            "1/1 [==============================] - 0s 16ms/step\n",
            "1/1 [==============================] - 0s 15ms/step\n",
            "1/1 [==============================] - 0s 21ms/step\n",
            "1/1 [==============================] - 0s 15ms/step\n",
            "1/1 [==============================] - 0s 17ms/step\n",
            "A minha mão quer católico cabelo pixaim deu jabá o a chupar a barba\n"
          ]
        }
      ],
      "source": [
        "# Define seed text\n",
        "seed_text = \"A minha mão quer\"\n",
        "\n",
        "# Define total words to predict\n",
        "next_words = 10\n",
        "\n",
        "# Loop until desired length is reached\n",
        "for _ in range(next_words):\n",
        "\n",
        "\t# Convert the seed text to a token sequence\n",
        "\ttoken_list = tokenizer.texts_to_sequences([seed_text])[0]\n",
        "\n",
        "\t# Pad the sequence\n",
        "\ttoken_list = pad_sequences([token_list], maxlen=max_sequence_len-1, padding='pre')\n",
        "\n",
        "\t# Feed to the model and get the probabilities for each index\n",
        "\tprobabilities = model.predict(token_list)\n",
        "\n",
        "\t# Get the index with the highest probability\n",
        "\tpredicted = np.argmax(probabilities, axis=-1)[0]\n",
        "\n",
        "\t# Ignore if index is 0 because that is just the padding.\n",
        "\tif predicted != 0:\n",
        "\n",
        "\t\t# Look up the word associated with the index.\n",
        "\t\toutput_word = tokenizer.index_word[predicted]\n",
        "\n",
        "\t\t# Combine with the seed text\n",
        "\t\tseed_text += \" \" + output_word\n",
        "\n",
        "# Print the result\n",
        "print(seed_text)"
      ]
    },
    {
      "cell_type": "code",
      "execution_count": 33,
      "metadata": {
        "id": "JZqJKIpgkiYt"
      },
      "outputs": [
        {
          "name": "stdout",
          "output_type": "stream",
          "text": [
            "1/1 [==============================] - 0s 19ms/step\n",
            "1/1 [==============================] - 0s 19ms/step\n",
            "1/1 [==============================] - 0s 16ms/step\n",
            "1/1 [==============================] - 0s 16ms/step\n",
            "1/1 [==============================] - 0s 16ms/step\n",
            "1/1 [==============================] - 0s 16ms/step\n",
            "1/1 [==============================] - 0s 15ms/step\n",
            "1/1 [==============================] - 0s 15ms/step\n",
            "1/1 [==============================] - 0s 17ms/step\n",
            "1/1 [==============================] - 0s 15ms/step\n",
            "1/1 [==============================] - 0s 16ms/step\n",
            "1/1 [==============================] - 0s 19ms/step\n",
            "Estou pensando em toda a fazer com vinagre doce que o pediatra olha eu conquistchar\n"
          ]
        }
      ],
      "source": [
        "# Define seed text\n",
        "seed_text = \"Estou pensando em\"\n",
        "\n",
        "# Define total words to predict\n",
        "next_words = 12\n",
        "\n",
        "# Loop until desired length is reached\n",
        "for _ in range(next_words):\n",
        "\n",
        "\t# Convert the seed text to a token sequence\n",
        "  token_list = tokenizer.texts_to_sequences([seed_text])[0]\n",
        "\n",
        "\t# Pad the sequence\n",
        "  token_list = pad_sequences([token_list], maxlen=max_sequence_len-1, padding='pre')\n",
        "\n",
        "\t# Feed to the model and get the probabilities for each index\n",
        "  probabilities = model.predict(token_list)\n",
        "\n",
        "  # Pick a random number from [1,2,3]\n",
        "  choice = np.random.choice([1,2,3])\n",
        "\n",
        "  # Sort the probabilities in ascending order\n",
        "  # and get the random choice from the end of the array\n",
        "  predicted = np.argsort(probabilities)[0][-choice]\n",
        "\n",
        "\t# Ignore if index is 0 because that is just the padding.\n",
        "  if predicted != 0:\n",
        "    output_word = tokenizer.index_word[predicted]\n",
        "    seed_text += \" \" + output_word\n",
        "\n",
        "# Print the result\n",
        "print(seed_text)"
      ]
    },
    {
      "cell_type": "code",
      "execution_count": null,
      "metadata": {},
      "outputs": [],
      "source": []
    },
    {
      "cell_type": "code",
      "execution_count": null,
      "metadata": {},
      "outputs": [],
      "source": []
    }
  ],
  "metadata": {
    "colab": {
      "name": "C3_W4_Lab_1.ipynb",
      "private_outputs": true,
      "provenance": [],
      "toc_visible": true
    },
    "kernelspec": {
      "display_name": "Python 3",
      "language": "python",
      "name": "python3"
    },
    "language_info": {
      "codemirror_mode": {
        "name": "ipython",
        "version": 3
      },
      "file_extension": ".py",
      "mimetype": "text/x-python",
      "name": "python",
      "nbconvert_exporter": "python",
      "pygments_lexer": "ipython3",
      "version": "3.11.1"
    }
  },
  "nbformat": 4,
  "nbformat_minor": 0
}
